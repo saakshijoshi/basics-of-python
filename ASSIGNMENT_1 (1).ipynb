{
  "nbformat": 4,
  "nbformat_minor": 0,
  "metadata": {
    "colab": {
      "name": "ASSIGNMENT 1.ipynb",
      "provenance": [],
      "collapsed_sections": []
    },
    "kernelspec": {
      "name": "python3",
      "display_name": "Python 3"
    },
    "language_info": {
      "name": "python"
    }
  },
  "cells": [
    {
      "cell_type": "code",
      "execution_count": null,
      "metadata": {
        "colab": {
          "base_uri": "https://localhost:8080/"
        },
        "id": "iZG3BNalR3sz",
        "outputId": "3b3dc1e0-0cf2-4b4b-c5a6-e878c3cccc58"
      },
      "outputs": [
        {
          "output_type": "stream",
          "name": "stdout",
          "text": [
            "['Sakshi', 'Joshi', 21, 'Student']\n",
            "['SP College', 'Autonomous', 'Sadashiv Peth', 411030]\n"
          ]
        }
      ],
      "source": [
        "A=[\"Sakshi\",\"Joshi\",21,\"Student\",]\n",
        "B=[\"SP College\",\"Autonomous\",\"Sadashiv Peth\",411030]\n",
        "print(A)\n",
        "print(B)"
      ]
    },
    {
      "cell_type": "code",
      "source": [
        "a=(\"Sakshi\",\"Joshi\",21,\"Student\") \n",
        "b=(\"SP College\",\"Autonomous\",\"Sadashiv Peth\",411030)\n",
        "print(a)\n",
        "print(b)"
      ],
      "metadata": {
        "colab": {
          "base_uri": "https://localhost:8080/"
        },
        "id": "b7FIphk7TaVQ",
        "outputId": "27a2bbb5-ee85-4194-dfb7-2413ddafc4b7"
      },
      "execution_count": null,
      "outputs": [
        {
          "output_type": "stream",
          "name": "stdout",
          "text": [
            "('Sakshi', 'Joshi', 21, 'Student')\n",
            "('SP College', 'Autonomous', 'Sadashiv Peth', 411030)\n"
          ]
        }
      ]
    },
    {
      "cell_type": "code",
      "source": [
        "print(A[0:2])\n",
        "print(B[2:3])\n",
        "print(a[2])\n",
        "print(b[3])"
      ],
      "metadata": {
        "colab": {
          "base_uri": "https://localhost:8080/"
        },
        "id": "Xb23mlj6TyP5",
        "outputId": "cf0b6c35-b624-4b1b-c7fb-7353f2f316e1"
      },
      "execution_count": null,
      "outputs": [
        {
          "output_type": "stream",
          "name": "stdout",
          "text": [
            "['Sakshi', 'Joshi']\n",
            "['Sadashiv Peth']\n",
            "21\n",
            "411030\n"
          ]
        }
      ]
    },
    {
      "cell_type": "code",
      "source": [
        "print(type(A))\n",
        "print(type(B))\n",
        "print(type(a))\n",
        "print(type(b))"
      ],
      "metadata": {
        "colab": {
          "base_uri": "https://localhost:8080/"
        },
        "id": "30TJlLzWT4B9",
        "outputId": "2e0652c2-8f8f-4a1c-8430-0b5ed196a3e4"
      },
      "execution_count": null,
      "outputs": [
        {
          "output_type": "stream",
          "name": "stdout",
          "text": [
            "<class 'list'>\n",
            "<class 'list'>\n",
            "<class 'tuple'>\n",
            "<class 'tuple'>\n"
          ]
        }
      ]
    },
    {
      "cell_type": "code",
      "source": [
        "print(A)\n",
        "A1=A.copy()\n",
        "print(A1)"
      ],
      "metadata": {
        "id": "AF1szRQAUDaN",
        "outputId": "82dd5a9f-ee64-4d01-97ee-ad4ecf5c1fdc",
        "colab": {
          "base_uri": "https://localhost:8080/"
        }
      },
      "execution_count": null,
      "outputs": [
        {
          "output_type": "stream",
          "name": "stdout",
          "text": [
            "['Sakshi', 'Joshi', 21, 'Student']\n",
            "['Sakshi', 'Joshi', 21, 'Student']\n"
          ]
        }
      ]
    },
    {
      "cell_type": "code",
      "source": [
        "print(A)\n",
        "A1=A.copy()\n",
        "print(A1)"
      ],
      "metadata": {
        "id": "GnqAn8s5VU7U",
        "colab": {
          "base_uri": "https://localhost:8080/"
        },
        "outputId": "b856282e-9206-4542-8279-71fc28aac60f"
      },
      "execution_count": null,
      "outputs": [
        {
          "output_type": "stream",
          "name": "stdout",
          "text": [
            "['Sakshi', 'Joshi', 21, 'Student']\n",
            "['Sakshi', 'Joshi', 21, 'Student']\n"
          ]
        }
      ]
    },
    {
      "cell_type": "code",
      "source": [
        "print(B)\n",
        "B.append(\"Autonomous\") \n",
        "print(B)"
      ],
      "metadata": {
        "colab": {
          "base_uri": "https://localhost:8080/"
        },
        "id": "EFQCFdxyXpJJ",
        "outputId": "75991b6b-2669-4daf-d472-a3ee584b1fc2"
      },
      "execution_count": null,
      "outputs": [
        {
          "output_type": "stream",
          "name": "stdout",
          "text": [
            "['SP College', 'Autonomous', 'Sadashiv Peth', 411030]\n",
            "['SP College', 'Autonomous', 'Sadashiv Peth', 411030, 'Autonomous']\n"
          ]
        }
      ]
    },
    {
      "cell_type": "code",
      "source": [
        "print(B)\n",
        "B.append(\"Autonomous\") \n",
        "print(B)"
      ],
      "metadata": {
        "colab": {
          "base_uri": "https://localhost:8080/"
        },
        "id": "zZCCotfjYJPo",
        "outputId": "39930e62-c2a3-4a34-ce6c-6090d952d0a2"
      },
      "execution_count": null,
      "outputs": [
        {
          "output_type": "stream",
          "name": "stdout",
          "text": [
            "['SP College', 'Autonomous', 'Sadashiv Peth', 411030, 'Autonomous']\n",
            "['SP College', 'Autonomous', 'Sadashiv Peth', 411030, 'Autonomous', 'Autonomous']\n"
          ]
        }
      ]
    }
  ]
}