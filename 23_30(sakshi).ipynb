{
  "cells": [
    {
      "cell_type": "markdown",
      "metadata": {
        "id": "view-in-github",
        "colab_type": "text"
      },
      "source": [
        "<a href=\"https://colab.research.google.com/github/saakshijoshi/basics-of-python/blob/main/23_30(sakshi).ipynb\" target=\"_parent\"><img src=\"https://colab.research.google.com/assets/colab-badge.svg\" alt=\"Open In Colab\"/></a>"
      ]
    },
    {
      "cell_type": "code",
      "execution_count": null,
      "id": "boolean-table",
      "metadata": {
        "id": "boolean-table"
      },
      "outputs": [],
      "source": [
        "#23\n"
      ]
    },
    {
      "cell_type": "code",
      "execution_count": null,
      "id": "dietary-separation",
      "metadata": {
        "id": "dietary-separation"
      },
      "outputs": [],
      "source": [
        "import pandas as pd\n",
        "import numpy as np\n",
        "import matplotlib.pyplot as plt"
      ]
    },
    {
      "cell_type": "code",
      "execution_count": null,
      "id": "sustained-history",
      "metadata": {
        "id": "sustained-history"
      },
      "outputs": [],
      "source": [
        "df=pd.DataFrame({\"Year\":[2015,2016,2017,2018,2019,2020],\n",
        "             \"No of Students\":[700,1200,900,800,950"
      ]
    },
    {
      "cell_type": "code",
      "execution_count": null,
      "id": "alpine-radical",
      "metadata": {
        "id": "alpine-radical"
      },
      "outputs": [],
      "source": [
        "plt.plot(df['Year'],linestyle = 'dotted')"
      ]
    },
    {
      "cell_type": "code",
      "execution_count": null,
      "id": "single-passion",
      "metadata": {
        "id": "single-passion"
      },
      "outputs": [],
      "source": [
        "plt.plot(df['No of Students'],linestyle = 'dotted')"
      ]
    },
    {
      "cell_type": "code",
      "execution_count": null,
      "id": "powerful-magnet",
      "metadata": {
        "id": "powerful-magnet"
      },
      "outputs": [],
      "source": [
        ""
      ]
    },
    {
      "cell_type": "code",
      "execution_count": null,
      "id": "affiliated-gamma",
      "metadata": {
        "id": "affiliated-gamma"
      },
      "outputs": [],
      "source": [
        "#25"
      ]
    },
    {
      "cell_type": "code",
      "execution_count": null,
      "id": "noticed-manitoba",
      "metadata": {
        "id": "noticed-manitoba"
      },
      "outputs": [],
      "source": [
        "import pandas as pd\n",
        "import matplotlib.pyplot as plt"
      ]
    },
    {
      "cell_type": "code",
      "execution_count": null,
      "id": "pharmaceutical-authority",
      "metadata": {
        "id": "pharmaceutical-authority"
      },
      "outputs": [],
      "source": [
        "df=pd.DataFrame({\"Section\":[\"A\",\"B\",\"C\",\"D\",\"E\"],\n",
        "             \"No of WOrkers\":[200,367,160,50,490]})"
      ]
    },
    {
      "cell_type": "code",
      "execution_count": null,
      "id": "recognized-doubt",
      "metadata": {
        "id": "recognized-doubt"
      },
      "outputs": [],
      "source": [
        "plt.pie(df['No of WOrkers'],labels=df['Section'])"
      ]
    },
    {
      "cell_type": "code",
      "execution_count": null,
      "id": "latest-messenger",
      "metadata": {
        "id": "latest-messenger"
      },
      "outputs": [],
      "source": [
        "import pandas as pd\n",
        "import matplotlib.pyplot as plt"
      ]
    },
    {
      "cell_type": "code",
      "execution_count": null,
      "id": "permanent-robinson",
      "metadata": {
        "id": "permanent-robinson"
      },
      "outputs": [],
      "source": [
        "df1=pd.DataFrame({\"Subject\": [\"Chemistry\",\"Electronics\",\"Mathematics\",\"Physics\",\"Statistics\"],\n",
        "                 \"No. of Students (%)\":[23.17, 13.51, 17.37, 18.92, 27.03]})"
      ]
    },
    {
      "cell_type": "code",
      "execution_count": null,
      "id": "foreign-constitutional",
      "metadata": {
        "id": "foreign-constitutional",
        "outputId": "fbb7ee06-6a88-49a7-f2b2-79bdb021fd04"
      },
      "outputs": [
        {
          "data": {
            "text/html": [
              "<div>\n",
              "<style scoped>\n",
              "    .dataframe tbody tr th:only-of-type {\n",
              "        vertical-align: middle;\n",
              "    }\n",
              "\n",
              "    .dataframe tbody tr th {\n",
              "        vertical-align: top;\n",
              "    }\n",
              "\n",
              "    .dataframe thead th {\n",
              "        text-align: right;\n",
              "    }\n",
              "</style>\n",
              "<table border=\"1\" class=\"dataframe\">\n",
              "  <thead>\n",
              "    <tr style=\"text-align: right;\">\n",
              "      <th></th>\n",
              "      <th>Subject</th>\n",
              "      <th>No. of Students (%)</th>\n",
              "    </tr>\n",
              "  </thead>\n",
              "  <tbody>\n",
              "    <tr>\n",
              "      <th>0</th>\n",
              "      <td>Chemistry</td>\n",
              "      <td>23.17</td>\n",
              "    </tr>\n",
              "    <tr>\n",
              "      <th>1</th>\n",
              "      <td>Electronics</td>\n",
              "      <td>13.51</td>\n",
              "    </tr>\n",
              "    <tr>\n",
              "      <th>2</th>\n",
              "      <td>Mathematics</td>\n",
              "      <td>17.37</td>\n",
              "    </tr>\n",
              "    <tr>\n",
              "      <th>3</th>\n",
              "      <td>Physics</td>\n",
              "      <td>18.92</td>\n",
              "    </tr>\n",
              "    <tr>\n",
              "      <th>4</th>\n",
              "      <td>Statistics</td>\n",
              "      <td>27.03</td>\n",
              "    </tr>\n",
              "  </tbody>\n",
              "</table>\n",
              "</div>"
            ],
            "text/plain": [
              "       Subject  No. of Students (%)\n",
              "0    Chemistry                23.17\n",
              "1  Electronics                13.51\n",
              "2  Mathematics                17.37\n",
              "3      Physics                18.92\n",
              "4   Statistics                27.03"
            ]
          },
          "execution_count": 17,
          "metadata": {},
          "output_type": "execute_result"
        }
      ],
      "source": [
        "df1"
      ]
    },
    {
      "cell_type": "code",
      "execution_count": null,
      "id": "sitting-preservation",
      "metadata": {
        "id": "sitting-preservation",
        "outputId": "58d5af39-1ace-4e89-b35e-95fa48e15376"
      },
      "outputs": [
        {
          "data": {
            "text/plain": [
              "([<matplotlib.patches.Wedge at 0x219d2903908>,\n",
              "  <matplotlib.patches.Wedge at 0x219d290cd48>,\n",
              "  <matplotlib.patches.Wedge at 0x219d2917448>,\n",
              "  <matplotlib.patches.Wedge at 0x219d2917b08>,\n",
              "  <matplotlib.patches.Wedge at 0x219d29211c8>],\n",
              " [Text(0.8212253597392717, 0.7318394007711692, 'Chemistry'),\n",
              "  Text(-0.3349850587205633, 1.0477523612161324, 'Electronics'),\n",
              "  Text(-1.0536819748682784, 0.3158390346959743, 'Mathematics'),\n",
              "  Text(-0.7269243934892979, -0.8255791459031753, 'Physics'),\n",
              "  Text(0.7266651445270067, -0.8258073429859683, 'Statistics')])"
            ]
          },
          "execution_count": 19,
          "metadata": {},
          "output_type": "execute_result"
        },
        {
          "data": {
            "image/png": "[encoded data removed]",
            "text/plain": [
              "<Figure size 1440x720 with 1 Axes>"
            ]
          },
          "metadata": {},
          "output_type": "display_data"
        }
      ],
      "source": [
        "plt.figure(figsize=(20,10))\n",
        "plt.pie(df1['No. of Students (%)'],labels=df1['Subject'])"
      ]
    },
    {
      "cell_type": "code",
      "execution_count": null,
      "id": "important-walnut",
      "metadata": {
        "id": "important-walnut"
      },
      "outputs": [],
      "source": [
        ""
      ]
    },
    {
      "cell_type": "code",
      "execution_count": null,
      "id": "afraid-modification",
      "metadata": {
        "id": "afraid-modification"
      },
      "outputs": [],
      "source": [
        ""
      ]
    },
    {
      "cell_type": "code",
      "execution_count": null,
      "id": "weird-smith",
      "metadata": {
        "id": "weird-smith"
      },
      "outputs": [],
      "source": [
        "#26"
      ]
    },
    {
      "cell_type": "code",
      "execution_count": null,
      "id": "advanced-retail",
      "metadata": {
        "id": "advanced-retail"
      },
      "outputs": [],
      "source": [
        "import pandas as pd\n",
        "import numpy as np\n",
        "import matplotlib.pyplot as plt"
      ]
    },
    {
      "cell_type": "code",
      "execution_count": null,
      "id": "latin-soldier",
      "metadata": {
        "id": "latin-soldier"
      },
      "outputs": [],
      "source": [
        "df=pd.DataFrame({\"Year\":[\"2017-18\",'2018-19','2019-20'],\n",
        "             \"Arts\":[750,725,850],\n",
        "                \"Commerce\":[1450,1625,1750]})"
      ]
    },
    {
      "cell_type": "code",
      "execution_count": null,
      "id": "handed-venice",
      "metadata": {
        "id": "handed-venice"
      },
      "outputs": [],
      "source": [
        "plt.bar(df['Year'],df['Arts'])\n",
        "plt.bar(df['Year'],df['Commerce'],bottom=df['Arts'])"
      ]
    },
    {
      "cell_type": "code",
      "execution_count": null,
      "id": "increasing-census",
      "metadata": {
        "id": "increasing-census"
      },
      "outputs": [],
      "source": [
        ""
      ]
    },
    {
      "cell_type": "code",
      "execution_count": null,
      "id": "finished-supplement",
      "metadata": {
        "id": "finished-supplement"
      },
      "outputs": [],
      "source": [
        "#27"
      ]
    },
    {
      "cell_type": "code",
      "execution_count": null,
      "id": "ordered-polish",
      "metadata": {
        "id": "ordered-polish"
      },
      "outputs": [],
      "source": [
        "import pandas as pd\n",
        "import numpy as np\n",
        "import matplotlib.pyplot as plt"
      ]
    },
    {
      "cell_type": "code",
      "execution_count": null,
      "id": "above-charger",
      "metadata": {
        "id": "above-charger"
      },
      "outputs": [],
      "source": [
        "df=pd.DataFrame({'Year':[2016,2017,2018,2019,2020],\n",
        "             \"Turnover (lakhs)\":[6.5,6.7,6.9,7,8],\n",
        "             \"Profit(Lakhs)\":[1.2,1.7,1.8,1.9,2]})"
      ]
    },
    {
      "cell_type": "code",
      "execution_count": null,
      "id": "other-daughter",
      "metadata": {
        "id": "other-daughter"
      },
      "outputs": [],
      "source": [
        "plt.bar(df['Year'],df['Turnover (lakhs)'])"
      ]
    },
    {
      "cell_type": "code",
      "execution_count": null,
      "id": "generic-norman",
      "metadata": {
        "id": "generic-norman"
      },
      "outputs": [],
      "source": [
        "plt.bar(df['Year'],df['Profit(Lakhs)'])"
      ]
    },
    {
      "cell_type": "code",
      "execution_count": null,
      "id": "abstract-minimum",
      "metadata": {
        "id": "abstract-minimum"
      },
      "outputs": [],
      "source": [
        "df['Profit(Lakhs)'].plot(kind='bar')\n",
        "plt.ylabel(\"Profit(Lakhs)\")"
      ]
    },
    {
      "cell_type": "code",
      "execution_count": null,
      "id": "fifty-arcade",
      "metadata": {
        "id": "fifty-arcade"
      },
      "outputs": [],
      "source": [
        ""
      ]
    },
    {
      "cell_type": "code",
      "execution_count": null,
      "id": "assigned-steps",
      "metadata": {
        "id": "assigned-steps"
      },
      "outputs": [],
      "source": [
        "#29"
      ]
    },
    {
      "cell_type": "code",
      "execution_count": null,
      "id": "congressional-talent",
      "metadata": {
        "id": "congressional-talent"
      },
      "outputs": [],
      "source": [
        "import pandas as pd\n",
        "import matplotlib.pyplot as plt\n",
        "import seaborn as sns\n",
        "import numpy as np"
      ]
    },
    {
      "cell_type": "code",
      "execution_count": null,
      "id": "devoted-place",
      "metadata": {
        "id": "devoted-place"
      },
      "outputs": [],
      "source": [
        "df=pd.DataFrame({\"a\":[15, 17, 29, 37, 5, 12, 45, 16, 29, 32, 18, 22, 24, 7, 13]})"
      ]
    },
    {
      "cell_type": "code",
      "execution_count": null,
      "id": "bright-yellow",
      "metadata": {
        "id": "bright-yellow"
      },
      "outputs": [],
      "source": [
        "sns.boxplot(data=df['a'])"
      ]
    },
    {
      "cell_type": "code",
      "execution_count": null,
      "id": "painful-payroll",
      "metadata": {
        "id": "painful-payroll"
      },
      "outputs": [],
      "source": [
        "arr=np.random.randn(200)"
      ]
    },
    {
      "cell_type": "code",
      "execution_count": null,
      "id": "nuclear-glasgow",
      "metadata": {
        "id": "nuclear-glasgow"
      },
      "outputs": [],
      "source": [
        "df_generated=pd.DataFrame(arr)"
      ]
    },
    {
      "cell_type": "code",
      "execution_count": null,
      "id": "colored-rotation",
      "metadata": {
        "id": "colored-rotation"
      },
      "outputs": [],
      "source": [
        "df_generated"
      ]
    },
    {
      "cell_type": "code",
      "execution_count": null,
      "id": "automatic-reviewer",
      "metadata": {
        "id": "automatic-reviewer"
      },
      "outputs": [],
      "source": [
        "df_generated.plot(kind='hist')"
      ]
    },
    {
      "cell_type": "code",
      "execution_count": null,
      "id": "authentic-transport",
      "metadata": {
        "id": "authentic-transport"
      },
      "outputs": [],
      "source": [
        ""
      ]
    },
    {
      "cell_type": "code",
      "execution_count": null,
      "id": "legal-prediction",
      "metadata": {
        "id": "legal-prediction"
      },
      "outputs": [],
      "source": [
        "#30"
      ]
    },
    {
      "cell_type": "code",
      "execution_count": null,
      "id": "gothic-affairs",
      "metadata": {
        "id": "gothic-affairs"
      },
      "outputs": [],
      "source": [
        "import pandas as pd\n",
        "import matplotlib.pyplot as plt\n",
        "import seaborn as sns"
      ]
    },
    {
      "cell_type": "code",
      "execution_count": null,
      "id": "copyrighted-evanescence",
      "metadata": {
        "id": "copyrighted-evanescence"
      },
      "outputs": [],
      "source": [
        "df=pd.DataFrame({\"X\":[2,5,7,8,9,11,13],\n",
        "             \"Y\":[8,13,18,20,21,25,30]})"
      ]
    },
    {
      "cell_type": "code",
      "execution_count": null,
      "id": "photographic-infection",
      "metadata": {
        "id": "photographic-infection"
      },
      "outputs": [],
      "source": [
        "sns.scatterplot(df[\"X\"],df['Y'])"
      ]
    },
    {
      "cell_type": "code",
      "execution_count": null,
      "id": "satellite-discussion",
      "metadata": {
        "id": "satellite-discussion"
      },
      "outputs": [],
      "source": [
        ""
      ]
    }
  ],
  "metadata": {
    "kernelspec": {
      "display_name": "Python 3",
      "language": "python",
      "name": "python3"
    },
    "language_info": {
      "codemirror_mode": {
        "name": "ipython",
        "version": 3
      },
      "file_extension": ".py",
      "mimetype": "text/x-python",
      "name": "python",
      "nbconvert_exporter": "python",
      "pygments_lexer": "ipython3",
      "version": "3.7.9"
    },
    "colab": {
      "name": "23-30(sakshi).ipynb",
      "provenance": [],
      "include_colab_link": true
    }
  },
  "nbformat": 4,
  "nbformat_minor": 5
}