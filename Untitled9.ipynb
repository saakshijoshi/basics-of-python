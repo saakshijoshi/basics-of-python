{
  "nbformat": 4,
  "nbformat_minor": 0,
  "metadata": {
    "colab": {
      "name": "Untitled9.ipynb",
      "provenance": [],
      "authorship_tag": "ABX9TyNp8A7p9HazR4Zoyv60oN50",
      "include_colab_link": true
    },
    "kernelspec": {
      "name": "python3",
      "display_name": "Python 3"
    },
    "language_info": {
      "name": "python"
    }
  },
  "cells": [
    {
      "cell_type": "markdown",
      "metadata": {
        "id": "view-in-github",
        "colab_type": "text"
      },
      "source": [
        "<a href=\"https://colab.research.google.com/github/saakshijoshi/basics-of-python/blob/main/Untitled9.ipynb\" target=\"_parent\"><img src=\"https://colab.research.google.com/assets/colab-badge.svg\" alt=\"Open In Colab\"/></a>"
      ]
    },
    {
      "cell_type": "code",
      "execution_count": 4,
      "metadata": {
        "colab": {
          "base_uri": "https://localhost:8080/"
        },
        "id": "lT-eNlPSKSH9",
        "outputId": "2b499617-2b83-444e-ff1d-8ec59389c8c2"
      },
      "outputs": [
        {
          "output_type": "stream",
          "name": "stdout",
          "text": [
            "0 1 1 2 3 5 8 13 21 34 "
          ]
        }
      ],
      "source": [
        "def printFibonacciNumbers(n):\n",
        "  f1 = 0\n",
        "  f2 = 1\n",
        "  if (n<1):\n",
        "    return\n",
        "  print(f1,end =\" \") \n",
        "  for x in range (1,n):\n",
        "    print(f2,end=\" \")\n",
        "    next = f1 + f2 \n",
        "    f1 = f2\n",
        "    f2 = next\n",
        "printFibonacciNumbers(10)"
      ]
    }
  ]
}