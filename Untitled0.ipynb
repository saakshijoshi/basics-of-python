{
  "nbformat": 4,
  "nbformat_minor": 0,
  "metadata": {
    "colab": {
      "name": "Untitled0.ipynb",
      "provenance": []
    },
    "kernelspec": {
      "name": "python3",
      "display_name": "Python 3"
    },
    "language_info": {
      "name": "python"
    }
  },
  "cells": [
    {
      "cell_type": "code",
      "execution_count": null,
      "metadata": {
        "id": "LaHYS3QSi_FT"
      },
      "outputs": [],
      "source": [
        ""
      ]
    },
    {
      "cell_type": "markdown",
      "source": [
        "Q1.Write a Python User Define Function to reverse a string"
      ],
      "metadata": {
        "id": "3WlCpzVLjAGp"
      }
    },
    {
      "cell_type": "code",
      "source": [
        "#Solution Q1. \n",
        "def rev(Inp):\n",
        " ReverseInp=Inp[::-1] # Slicing\n",
        " print (\"The Reversed String is\",ReverseInp) # Print the reversed string\n",
        "\n",
        "Stri=input(\"Enter the String to be Reversed \") # Input From the User\n",
        "rev(Stri) #Called the function with user input as parameter"
      ],
      "metadata": {
        "colab": {
          "base_uri": "https://localhost:8080/"
        },
        "id": "_AKaJyFojBjg",
        "outputId": "8d2a527a-d8f3-41ee-f6d0-4e8751b7b116"
      },
      "execution_count": 4,
      "outputs": [
        {
          "output_type": "stream",
          "name": "stdout",
          "text": [
            "Enter the String to be Reversed sakshi\n",
            "The Reversed String is ihskas\n"
          ]
        }
      ]
    },
    {
      "cell_type": "markdown",
      "source": [
        "Q2. Write a Python min_max function which will return Min, Max of 4 inputs from the user."
      ],
      "metadata": {
        "id": "-pZZb56dj2qA"
      }
    },
    {
      "cell_type": "code",
      "source": [
        "#Solution Q2. \n",
        "def min_max(A,B,C,D):\n",
        "  print(\"The Maxmimum value from the input values is: \", max(A,B,C,D))\n",
        "  print(\"The Minimum value from the input values is: \", min(A,B,C,D))\n",
        "  \n",
        "p, q, r, s = input(\"Enter four values to find minimum and maximum value separated by space: \").split()\n",
        "# Alternative  \n",
        "# p = input(\"Enter the first value: \")\n",
        "# q = input(\"Enter the second value: \")\n",
        "# r = input(\"Enter the third value: \")\n",
        "# s = input(\"Enter the fourth value: \")\n",
        "\n",
        "min_max(p,q,r,s)"
      ],
      "metadata": {
        "colab": {
          "base_uri": "https://localhost:8080/"
        },
        "id": "ozASJlX7j_tD",
        "outputId": "e78d091b-296e-4f76-b6db-964f6975aa67"
      },
      "execution_count": 5,
      "outputs": [
        {
          "output_type": "stream",
          "name": "stdout",
          "text": [
            "Enter four values to find minimum and maximum value separated by space: 1 2 3 4\n",
            "The Maxmimum value from the input values is:  4\n",
            "The Minimum value from the input values is:  1\n"
          ]
        }
      ]
    },
    {
      "cell_type": "markdown",
      "source": [
        "Q3. Write a Python function to sum 4 inputs from the user."
      ],
      "metadata": {
        "id": "EMtUnYlcka0q"
      }
    },
    {
      "cell_type": "code",
      "source": [
        "##Solution Q3. \n",
        "def Sum4(A,B,C,D):\n",
        "  sum = A+B+C+D\n",
        "  print(\"The Sum of the input vlaues is: \", sum)\n",
        "\n",
        "p, q, r, s = list(map(float, input(\"Enter four values to find sum of them separated by space: \").split()))\n",
        "# Alternative  \n",
        "# p = float(input(\"Enter the first value: \"))\n",
        "# q = float(input(\"Enter the second value: \"))\n",
        "# r = float(input(\"Enter the third value: \"))\n",
        "# s = float(input(\"Enter the fourth value: \"))\n",
        "\n",
        "Sum4 (p,q,r,s)\n"
      ],
      "metadata": {
        "colab": {
          "base_uri": "https://localhost:8080/"
        },
        "id": "oP3Himvwkh7n",
        "outputId": "1321f4b9-b4dd-4255-8f21-498b3d67f15d"
      },
      "execution_count": 6,
      "outputs": [
        {
          "output_type": "stream",
          "name": "stdout",
          "text": [
            "Enter four values to find sum of them separated by space: 1 2 3 4\n",
            "The Sum of the input vlaues is:  10.0\n"
          ]
        }
      ]
    },
    {
      "cell_type": "markdown",
      "source": [
        "Q4. Find out the Command which will return you number of local variables from the user define function."
      ],
      "metadata": {
        "id": "DNcmts6zk2ci"
      }
    },
    {
      "cell_type": "code",
      "source": [
        "## User_Defined_Function_Name.__code__.co_nlocals\n",
        "print(\"The Number of Local Variables in the given User Defined Function is: \" ,Sum4.__code__.co_nlocals)"
      ],
      "metadata": {
        "colab": {
          "base_uri": "https://localhost:8080/"
        },
        "id": "7U8RfPAhlBNj",
        "outputId": "ef9a22d3-9bfe-4ad6-9c58-36fc17350afd"
      },
      "execution_count": 7,
      "outputs": [
        {
          "output_type": "stream",
          "name": "stdout",
          "text": [
            "The Number of Local Variables in the given User Defined Function is:  5\n"
          ]
        }
      ]
    },
    {
      "cell_type": "markdown",
      "source": [
        "Q5.Write Python Function to get even number from the list. List len must be equal to 8."
      ],
      "metadata": {
        "id": "WAPPU_EulQmu"
      }
    },
    {
      "cell_type": "code",
      "source": [
        "##Solution Q5. \n",
        "list1 = list(map(float, input(\"Enter a list of 8 elements separated by space: \").split()))\n",
        "L = len(list1)\n",
        "\n",
        "if (L==8):\n",
        "    print(\"The Even Numbers are : \")\n",
        "    for num in list1:\n",
        "  \n",
        "        if (num % 2 == 0):\n",
        "            print(num, end=\" \")\n",
        "else: \n",
        "    print(\"There are less than 8 elements in the list\")"
      ],
      "metadata": {
        "colab": {
          "base_uri": "https://localhost:8080/"
        },
        "id": "f7IGIBPglY3-",
        "outputId": "f1a9051d-0525-42ed-cd5f-d51969c78a88"
      },
      "execution_count": 8,
      "outputs": [
        {
          "output_type": "stream",
          "name": "stdout",
          "text": [
            "Enter a list of 8 elements separated by space: 1 2 3 4 5 6 7 8\n",
            "The Even Numbers are : \n",
            "2.0 4.0 6.0 8.0 "
          ]
        }
      ]
    }
  ]
}