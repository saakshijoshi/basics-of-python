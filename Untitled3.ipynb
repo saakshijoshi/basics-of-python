{
  "nbformat": 4,
  "nbformat_minor": 0,
  "metadata": {
    "colab": {
      "name": "Untitled3.ipynb",
      "provenance": [],
      "authorship_tag": "ABX9TyNCi2bRHPb2syOwqm8ZvTL2",
      "include_colab_link": true
    },
    "kernelspec": {
      "name": "python3",
      "display_name": "Python 3"
    },
    "language_info": {
      "name": "python"
    }
  },
  "cells": [
    {
      "cell_type": "markdown",
      "metadata": {
        "id": "view-in-github",
        "colab_type": "text"
      },
      "source": [
        "<a href=\"https://colab.research.google.com/github/saakshijoshi/basics-of-python/blob/main/Untitled3.ipynb\" target=\"_parent\"><img src=\"https://colab.research.google.com/assets/colab-badge.svg\" alt=\"Open In Colab\"/></a>"
      ]
    },
    {
      "cell_type": "code",
      "execution_count": null,
      "metadata": {
        "id": "uYTz4Ud8Uy2E"
      },
      "outputs": [],
      "source": [
        ""
      ]
    },
    {
      "cell_type": "code",
      "source": [
        "str=\"statistics\"\n",
        "print(len(str))"
      ],
      "metadata": {
        "colab": {
          "base_uri": "https://localhost:8080/"
        },
        "id": "DB-bxtSAU0hS",
        "outputId": "838bce42-25c1-4521-e7d4-339545cc8614"
      },
      "execution_count": 1,
      "outputs": [
        {
          "output_type": "stream",
          "name": "stdout",
          "text": [
            "10\n"
          ]
        }
      ]
    },
    {
      "cell_type": "code",
      "source": [
        "def evenodd(n):\n",
        "  if n%2==0:\n",
        "    print(\"even\");\n",
        "  else:\n",
        "    print(\"odd\") \n",
        "evenodd(20);\n",
        "evenodd(11);    "
      ],
      "metadata": {
        "colab": {
          "base_uri": "https://localhost:8080/"
        },
        "id": "miYW2D1rYdon",
        "outputId": "92ee9ba3-a46d-4665-c40e-fcd5497f0321"
      },
      "execution_count": 4,
      "outputs": [
        {
          "output_type": "stream",
          "name": "stdout",
          "text": [
            "even\n",
            "odd\n"
          ]
        }
      ]
    },
    {
      "cell_type": "code",
      "source": [
        "def division(m,n):\n",
        "  flag = False\n",
        "  if m%n==0:\n",
        "    flag = True\n",
        "  return flag\n",
        "\n",
        "\n",
        "m=5\n",
        "n=2\n",
        "result=division(m,n);\n",
        "if result==True:\n",
        "    print(\"divisible\");\n",
        "else:  \n",
        "    print(\"not divisible\")\n"
      ],
      "metadata": {
        "colab": {
          "base_uri": "https://localhost:8080/"
        },
        "id": "915mofDudGT6",
        "outputId": "74871778-3df3-4abb-8052-fec646f58214"
      },
      "execution_count": 10,
      "outputs": [
        {
          "output_type": "stream",
          "name": "stdout",
          "text": [
            "not divisible\n"
          ]
        }
      ]
    },
    {
      "cell_type": "code",
      "source": [
        "P = 10000\n",
        "R = 10\n",
        "T = 5\n",
        "SI = (P * R * T)/100\n",
        "print(\"Simple Interest\",SI)\n",
        "CI = P * (pow((1+R/100),T)) - P\n",
        "print(\"Compound Interest\",CI)\n"
      ],
      "metadata": {
        "colab": {
          "base_uri": "https://localhost:8080/"
        },
        "id": "voKB7wKLui5c",
        "outputId": "13f8e37d-77a9-4f34-c331-f11dbda61110"
      },
      "execution_count": 11,
      "outputs": [
        {
          "output_type": "stream",
          "name": "stdout",
          "text": [
            "Simple Interest 5000.0\n",
            "Compound Interest 6105.100000000006\n"
          ]
        }
      ]
    },
    {
      "cell_type": "code",
      "source": [
        "c=40\n",
        "f=(c*1.8)+32\n",
        "print(\"c to f temperature is\",f)"
      ],
      "metadata": {
        "colab": {
          "base_uri": "https://localhost:8080/"
        },
        "id": "WPWbFdD85j4J",
        "outputId": "911c45ed-32b8-4b0d-9aa1-28f4c923cf8f"
      },
      "execution_count": 12,
      "outputs": [
        {
          "output_type": "stream",
          "name": "stdout",
          "text": [
            "c to f temperature is 104.0\n"
          ]
        }
      ]
    }
  ]
}