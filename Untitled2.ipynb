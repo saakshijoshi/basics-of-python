{
  "nbformat": 4,
  "nbformat_minor": 0,
  "metadata": {
    "colab": {
      "name": "Untitled2.ipynb",
      "provenance": [],
      "authorship_tag": "ABX9TyMGFknJ+Ox7c/axwhN/PWqr",
      "include_colab_link": true
    },
    "kernelspec": {
      "name": "python3",
      "display_name": "Python 3"
    },
    "language_info": {
      "name": "python"
    }
  },
  "cells": [
    {
      "cell_type": "markdown",
      "metadata": {
        "id": "view-in-github",
        "colab_type": "text"
      },
      "source": [
        "<a href=\"https://colab.research.google.com/github/saakshijoshi/basics-of-python/blob/main/Untitled2.ipynb\" target=\"_parent\"><img src=\"https://colab.research.google.com/assets/colab-badge.svg\" alt=\"Open In Colab\"/></a>"
      ]
    },
    {
      "cell_type": "markdown",
      "source": [
        "sum and sum of square of first n natural numbers"
      ],
      "metadata": {
        "id": "a1XSXz9b0kBj"
      }
    },
    {
      "cell_type": "code",
      "source": [
        "n =int(input(\"enter number:\"))\n",
        "sum = 0 \n",
        "i = 1\n",
        "while(i<=n):\n",
        "  sum = sum + (i * i)\n",
        "  i = i + 1\n",
        "print(\"Sum is :\",sum)"
      ],
      "metadata": {
        "id": "aVfIeVPEID-p"
      },
      "execution_count": null,
      "outputs": []
    },
    {
      "cell_type": "markdown",
      "source": [
        " write a program to print 1 to 10"
      ],
      "metadata": {
        "id": "dVIVxngk0-l2"
      }
    },
    {
      "cell_type": "code",
      "source": [
        "i = 1\n",
        "while(i<=10):\n",
        "  print(i)\n",
        "  i = i + 1\n"
      ],
      "metadata": {
        "colab": {
          "base_uri": "https://localhost:8080/"
        },
        "id": "bPOObVHs0sFZ",
        "outputId": "06ec0761-aa16-45e5-e439-65624303d3a7"
      },
      "execution_count": 2,
      "outputs": [
        {
          "output_type": "stream",
          "name": "stdout",
          "text": [
            "1\n",
            "2\n",
            "3\n",
            "4\n",
            "5\n",
            "6\n",
            "7\n",
            "8\n",
            "9\n",
            "10\n"
          ]
        }
      ]
    },
    {
      "cell_type": "markdown",
      "source": [
        "write a program to print 1 to n"
      ],
      "metadata": {
        "id": "EN8l7t5516se"
      }
    },
    {
      "cell_type": "code",
      "source": [
        ""
      ],
      "metadata": {
        "id": "kZhRo7xY2yst"
      },
      "execution_count": null,
      "outputs": []
    },
    {
      "cell_type": "code",
      "source": [
        "n = int(input(\"number upto which you want to print\"))\n",
        "i = 1\n",
        "while(i<=n) :\n",
        "  print(i)\n",
        "  i = i + 1\n"
      ],
      "metadata": {
        "colab": {
          "base_uri": "https://localhost:8080/"
        },
        "id": "2zlxOLlI2ARS",
        "outputId": "59af7eaa-9dbf-46c0-a9bc-33ea066184d0"
      },
      "execution_count": 3,
      "outputs": [
        {
          "output_type": "stream",
          "name": "stdout",
          "text": [
            "number upto which you want to print10\n",
            "1\n",
            "2\n",
            "3\n",
            "4\n",
            "5\n",
            "6\n",
            "7\n",
            "8\n",
            "9\n",
            "10\n"
          ]
        }
      ]
    },
    {
      "cell_type": "markdown",
      "source": [
        "write a program to find sum of first n natural numbers"
      ],
      "metadata": {
        "id": "ZFguHYTw4q9G"
      }
    },
    {
      "cell_type": "code",
      "source": [
        "n = int(input(\"enter number upto which you want to sum\"))\n",
        "i = 1\n",
        "sum = 0 \n",
        "while(i<=n):\n",
        "  sum = sum + i \n",
        "  i = i + 1\n",
        "print(\"Sum:\",sum)"
      ],
      "metadata": {
        "id": "tp7zB99e40NY"
      },
      "execution_count": null,
      "outputs": []
    },
    {
      "cell_type": "markdown",
      "source": [
        ""
      ],
      "metadata": {
        "id": "uw8ZwstVFS0i"
      }
    }
  ]
}