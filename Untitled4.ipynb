{
  "nbformat": 4,
  "nbformat_minor": 0,
  "metadata": {
    "colab": {
      "name": "Untitled4.ipynb",
      "provenance": [],
      "collapsed_sections": [],
      "authorship_tag": "ABX9TyNRQ+LUE5ITffUZJz9L4DEW",
      "include_colab_link": true
    },
    "kernelspec": {
      "name": "python3",
      "display_name": "Python 3"
    },
    "language_info": {
      "name": "python"
    }
  },
  "cells": [
    {
      "cell_type": "markdown",
      "metadata": {
        "id": "view-in-github",
        "colab_type": "text"
      },
      "source": [
        "<a href=\"https://colab.research.google.com/github/saakshijoshi/basics-of-python/blob/main/Untitled4.ipynb\" target=\"_parent\"><img src=\"https://colab.research.google.com/assets/colab-badge.svg\" alt=\"Open In Colab\"/></a>"
      ]
    },
    {
      "cell_type": "code",
      "execution_count": null,
      "metadata": {
        "id": "HB79tzzYyHu0"
      },
      "outputs": [],
      "source": [
        ""
      ]
    },
    {
      "cell_type": "markdown",
      "source": [
        "write a program to create and print a new dictionary by concatenating following dictionaries.\n",
        "1] dic1={1:10,2:20},dic2={3:30,4:40} and dic3={5:50,6:60}\n",
        "2]dic1={'a':1,'b':2},dic2={'c':3,'d':4} and dic3={'e':5,'f':6}."
      ],
      "metadata": {
        "id": "vSe_zLuayJGz"
      }
    },
    {
      "cell_type": "code",
      "source": [
        "#1\n",
        "dic1 = {1:10 , 2:20 }\n",
        "dic2 = {3:30 , 4:40 }\n",
        "dic3 = {5:50 , 6:60 }\n",
        "dic4 = {}\n",
        "for d in (dic1 , dic2 , dic3) : dic4.update(d)\n",
        "print(dic4)"
      ],
      "metadata": {
        "colab": {
          "base_uri": "https://localhost:8080/"
        },
        "id": "Xpowj-1wzcKI",
        "outputId": "17626c60-475d-4922-d500-b0ec2d8498fa"
      },
      "execution_count": 4,
      "outputs": [
        {
          "output_type": "stream",
          "name": "stdout",
          "text": [
            "{1: 10, 2: 20, 3: 30, 4: 40, 5: 50, 6: 60}\n"
          ]
        }
      ]
    },
    {
      "cell_type": "markdown",
      "source": [
        "write a program to create and print new dictionary by concatenating following dictionaries 1]dic1={1:10,2:20},dic2={3:30,4:40} and dic4={5:50,6:60}\n",
        "2]dic2={'a':1,'b':2},dic2={'c':3,'d':4} and dic3={'e':5,'f':6}"
      ],
      "metadata": {
        "id": "KiQi7aN55H_u"
      }
    },
    {
      "cell_type": "code",
      "source": [
        "#2"
      ],
      "metadata": {
        "id": "1cnx5w5v3s-R"
      },
      "execution_count": null,
      "outputs": []
    },
    {
      "cell_type": "code",
      "source": [
        "dic1 = {'a':1,'b':2}\n",
        "dic2 = {'c':3,'d':4}\n",
        "dic3 = {'e':5,'f':6}\n",
        "dic4 = {}\n",
        "for d in (dic1 , dic2 , dic3):dic4.update(d)\n",
        "print(dic4)"
      ],
      "metadata": {
        "colab": {
          "base_uri": "https://localhost:8080/"
        },
        "id": "WqPv18g0zXWr",
        "outputId": "4265eea0-8bdb-4750-b645-c120440e493f"
      },
      "execution_count": 3,
      "outputs": [
        {
          "output_type": "stream",
          "name": "stdout",
          "text": [
            "{'a': 1, 'b': 2, 'c': 3, 'd': 4, 'e': 5, 'f': 6}\n"
          ]
        }
      ]
    },
    {
      "cell_type": "markdown",
      "source": [
        ""
      ],
      "metadata": {
        "id": "xfWjXzlr5Gjh"
      }
    }
  ]
}